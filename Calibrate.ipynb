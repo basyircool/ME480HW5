{
 "cells": [
  {
   "cell_type": "code",
   "execution_count": 1,
   "metadata": {},
   "outputs": [
    {
     "name": "stdout",
     "output_type": "stream",
     "text": [
      "Collecting solidpython\n",
      "  Downloading https://files.pythonhosted.org/packages/b3/38/ef3f76d0eeb8c3406ed23cd6b93b08f46c80e45dd39aaabff2c77e356cf9/solidpython-0.4.4-py3-none-any.whl (66kB)\n",
      "Collecting PrettyTable==0.7.2 (from solidpython)\n",
      "  Downloading https://files.pythonhosted.org/packages/ef/30/4b0746848746ed5941f052479e7c23d2b56d174b82f4fd34a25e389831f5/prettytable-0.7.2.tar.bz2\n",
      "Collecting pypng<0.0.20,>=0.0.19 (from solidpython)\n",
      "  Downloading https://files.pythonhosted.org/packages/0e/39/993a5feea8ed9c2eebd70c6e7c20cb4b0823588f5ab0afab4b0be95ebc23/pypng-0.0.19.tar.gz (293kB)\n",
      "Collecting euclid3<0.2.0,>=0.1.0 (from solidpython)\n",
      "  Downloading https://files.pythonhosted.org/packages/fc/d2/80730bee6b51f2a0faacaec51abb919f144c8b1fff5907fe019ec0e95698/euclid3-0.01.tar.gz\n",
      "Collecting regex<2020.0,>=2019.4 (from solidpython)\n",
      "  Downloading https://files.pythonhosted.org/packages/48/df/59b662e220472b680ccac13e78c9714d48f14a64814ecdc5000e87536893/regex-2019.12.9-cp37-none-win_amd64.whl (314kB)\n",
      "Building wheels for collected packages: PrettyTable, pypng, euclid3\n",
      "  Building wheel for PrettyTable (setup.py): started\n",
      "  Building wheel for PrettyTable (setup.py): finished with status 'done'\n",
      "  Stored in directory: C:\\Users\\basyir\\AppData\\Local\\pip\\Cache\\wheels\\80\\34\\1c\\3967380d9676d162cb59513bd9dc862d0584e045a162095606\n",
      "  Building wheel for pypng (setup.py): started\n",
      "  Building wheel for pypng (setup.py): finished with status 'done'\n",
      "  Stored in directory: C:\\Users\\basyir\\AppData\\Local\\pip\\Cache\\wheels\\a4\\cd\\54\\c1d0803dfed5adf2bba530eda161581d9096d0154aee082cac\n",
      "  Building wheel for euclid3 (setup.py): started\n",
      "  Building wheel for euclid3 (setup.py): finished with status 'done'\n",
      "  Stored in directory: C:\\Users\\basyir\\AppData\\Local\\pip\\Cache\\wheels\\15\\52\\ea\\f0bf957951bd8b43c99461ef483bdd799d0e896a4bb99857ac\n",
      "Successfully built PrettyTable pypng euclid3\n",
      "Installing collected packages: PrettyTable, pypng, euclid3, regex, solidpython\n",
      "Successfully installed PrettyTable-0.7.2 euclid3-0.1 pypng-0.0.19 regex-2019.12.9 solidpython-0.4.4\n",
      "Note: you may need to restart the kernel to use updated packages.\n"
     ]
    }
   ],
   "source": [
    "pip install solidpython"
   ]
  },
  {
   "cell_type": "code",
   "execution_count": 2,
   "metadata": {},
   "outputs": [
    {
     "name": "stdout",
     "output_type": "stream",
     "text": [
      "Collecting viewscad\n",
      "  Downloading https://files.pythonhosted.org/packages/f8/92/571fd0e02fe9bd8594c24ec196f3d30280facf0e556c897de34b58a16499/viewscad-0.2.0-py3-none-any.whl\n",
      "Collecting pythreejs (from viewscad)\n",
      "  Downloading https://files.pythonhosted.org/packages/41/21/8307f7308686a08fa7be43ff5e25daf041c8b46d5874a243c262e4665cb8/pythreejs-2.1.1-py2.py3-none-any.whl (4.2MB)\n",
      "Requirement already satisfied: ipywidgets in c:\\programdata\\anaconda3\\lib\\site-packages (from viewscad) (7.5.0)\n",
      "Requirement already satisfied: jupyterlab in c:\\programdata\\anaconda3\\lib\\site-packages (from viewscad) (1.0.2)\n",
      "Requirement already satisfied: jupyter in c:\\programdata\\anaconda3\\lib\\site-packages (from viewscad) (1.0.0)\n",
      "Requirement already satisfied: solidpython in c:\\programdata\\anaconda3\\lib\\site-packages (from viewscad) (0.4.4)\n",
      "Requirement already satisfied: numpy in c:\\programdata\\anaconda3\\lib\\site-packages (from pythreejs->viewscad) (1.16.4)\n",
      "Collecting ipydatawidgets>=1.1.1 (from pythreejs->viewscad)\n",
      "  Downloading https://files.pythonhosted.org/packages/3d/62/eb221e1efaebf42af438c109088fbeea00561e5567a202fc8425d7b9c34d/ipydatawidgets-4.0.1-py2.py3-none-any.whl (250kB)\n",
      "Requirement already satisfied: ipykernel>=4.5.1 in c:\\programdata\\anaconda3\\lib\\site-packages (from ipywidgets->viewscad) (5.1.1)\n",
      "Requirement already satisfied: nbformat>=4.2.0 in c:\\programdata\\anaconda3\\lib\\site-packages (from ipywidgets->viewscad) (4.4.0)\n",
      "Requirement already satisfied: ipython>=4.0.0; python_version >= \"3.3\" in c:\\programdata\\anaconda3\\lib\\site-packages (from ipywidgets->viewscad) (7.6.1)\n",
      "Requirement already satisfied: traitlets>=4.3.1 in c:\\programdata\\anaconda3\\lib\\site-packages (from ipywidgets->viewscad) (4.3.2)\n",
      "Requirement already satisfied: widgetsnbextension~=3.5.0 in c:\\programdata\\anaconda3\\lib\\site-packages (from ipywidgets->viewscad) (3.5.0)\n",
      "Requirement already satisfied: notebook>=4.3.1 in c:\\programdata\\anaconda3\\lib\\site-packages (from jupyterlab->viewscad) (6.0.0)\n",
      "Requirement already satisfied: tornado!=6.0.0,!=6.0.1,!=6.0.2 in c:\\programdata\\anaconda3\\lib\\site-packages (from jupyterlab->viewscad) (6.0.3)\n",
      "Requirement already satisfied: jupyterlab_server~=1.0.0rc0 in c:\\programdata\\anaconda3\\lib\\site-packages (from jupyterlab->viewscad) (1.0.0)\n",
      "Requirement already satisfied: qtconsole in c:\\programdata\\anaconda3\\lib\\site-packages (from jupyter->viewscad) (4.5.1)\n",
      "Requirement already satisfied: nbconvert in c:\\programdata\\anaconda3\\lib\\site-packages (from jupyter->viewscad) (5.5.0)\n",
      "Requirement already satisfied: jupyter-console in c:\\programdata\\anaconda3\\lib\\site-packages (from jupyter->viewscad) (6.0.0)\n",
      "Requirement already satisfied: pypng<0.0.20,>=0.0.19 in c:\\programdata\\anaconda3\\lib\\site-packages (from solidpython->viewscad) (0.0.19)\n",
      "Requirement already satisfied: regex<2020.0,>=2019.4 in c:\\programdata\\anaconda3\\lib\\site-packages (from solidpython->viewscad) (2019.12.9)\n",
      "Requirement already satisfied: euclid3<0.2.0,>=0.1.0 in c:\\programdata\\anaconda3\\lib\\site-packages (from solidpython->viewscad) (0.1)\n",
      "Requirement already satisfied: PrettyTable==0.7.2 in c:\\programdata\\anaconda3\\lib\\site-packages (from solidpython->viewscad) (0.7.2)\n",
      "Collecting traittypes>=0.2.0 (from ipydatawidgets>=1.1.1->pythreejs->viewscad)\n",
      "  Downloading https://files.pythonhosted.org/packages/9c/d1/8d5bd662703cc1764d986f6908a608777305946fa634d34c470cd4a1e729/traittypes-0.2.1-py2.py3-none-any.whl\n",
      "Requirement already satisfied: six in c:\\programdata\\anaconda3\\lib\\site-packages (from ipydatawidgets>=1.1.1->pythreejs->viewscad) (1.12.0)\n",
      "Requirement already satisfied: jupyter-client in c:\\programdata\\anaconda3\\lib\\site-packages (from ipykernel>=4.5.1->ipywidgets->viewscad) (5.3.1)\n",
      "Requirement already satisfied: jsonschema!=2.5.0,>=2.4 in c:\\programdata\\anaconda3\\lib\\site-packages (from nbformat>=4.2.0->ipywidgets->viewscad) (3.0.1)\n",
      "Requirement already satisfied: ipython-genutils in c:\\programdata\\anaconda3\\lib\\site-packages (from nbformat>=4.2.0->ipywidgets->viewscad) (0.2.0)\n",
      "Requirement already satisfied: jupyter-core in c:\\programdata\\anaconda3\\lib\\site-packages (from nbformat>=4.2.0->ipywidgets->viewscad) (4.5.0)\n",
      "Requirement already satisfied: setuptools>=18.5 in c:\\programdata\\anaconda3\\lib\\site-packages (from ipython>=4.0.0; python_version >= \"3.3\"->ipywidgets->viewscad) (41.0.1)\n",
      "Requirement already satisfied: prompt-toolkit<2.1.0,>=2.0.0 in c:\\programdata\\anaconda3\\lib\\site-packages (from ipython>=4.0.0; python_version >= \"3.3\"->ipywidgets->viewscad) (2.0.9)\n",
      "Requirement already satisfied: decorator in c:\\programdata\\anaconda3\\lib\\site-packages (from ipython>=4.0.0; python_version >= \"3.3\"->ipywidgets->viewscad) (4.4.0)\n",
      "Requirement already satisfied: backcall in c:\\programdata\\anaconda3\\lib\\site-packages (from ipython>=4.0.0; python_version >= \"3.3\"->ipywidgets->viewscad) (0.1.0)\n",
      "Requirement already satisfied: pygments in c:\\programdata\\anaconda3\\lib\\site-packages (from ipython>=4.0.0; python_version >= \"3.3\"->ipywidgets->viewscad) (2.4.2)\n",
      "Requirement already satisfied: pickleshare in c:\\programdata\\anaconda3\\lib\\site-packages (from ipython>=4.0.0; python_version >= \"3.3\"->ipywidgets->viewscad) (0.7.5)\n",
      "Requirement already satisfied: colorama; sys_platform == \"win32\" in c:\\programdata\\anaconda3\\lib\\site-packages (from ipython>=4.0.0; python_version >= \"3.3\"->ipywidgets->viewscad) (0.4.1)\n",
      "Requirement already satisfied: jedi>=0.10 in c:\\programdata\\anaconda3\\lib\\site-packages (from ipython>=4.0.0; python_version >= \"3.3\"->ipywidgets->viewscad) (0.13.3)\n",
      "Requirement already satisfied: pyzmq>=17 in c:\\programdata\\anaconda3\\lib\\site-packages (from notebook>=4.3.1->jupyterlab->viewscad) (18.0.0)\n",
      "Requirement already satisfied: jinja2 in c:\\programdata\\anaconda3\\lib\\site-packages (from notebook>=4.3.1->jupyterlab->viewscad) (2.10.1)\n",
      "Requirement already satisfied: prometheus-client in c:\\programdata\\anaconda3\\lib\\site-packages (from notebook>=4.3.1->jupyterlab->viewscad) (0.7.1)\n",
      "Requirement already satisfied: Send2Trash in c:\\programdata\\anaconda3\\lib\\site-packages (from notebook>=4.3.1->jupyterlab->viewscad) (1.5.0)\n",
      "Requirement already satisfied: terminado>=0.8.1 in c:\\programdata\\anaconda3\\lib\\site-packages (from notebook>=4.3.1->jupyterlab->viewscad) (0.8.2)\n",
      "Requirement already satisfied: json5 in c:\\programdata\\anaconda3\\lib\\site-packages (from jupyterlab_server~=1.0.0rc0->jupyterlab->viewscad) (0.8.4)\n",
      "Requirement already satisfied: defusedxml in c:\\programdata\\anaconda3\\lib\\site-packages (from nbconvert->jupyter->viewscad) (0.6.0)\n",
      "Requirement already satisfied: bleach in c:\\programdata\\anaconda3\\lib\\site-packages (from nbconvert->jupyter->viewscad) (3.1.0)\n",
      "Requirement already satisfied: testpath in c:\\programdata\\anaconda3\\lib\\site-packages (from nbconvert->jupyter->viewscad) (0.4.2)\n",
      "Requirement already satisfied: pandocfilters>=1.4.1 in c:\\programdata\\anaconda3\\lib\\site-packages (from nbconvert->jupyter->viewscad) (1.4.2)\n",
      "Requirement already satisfied: mistune>=0.8.1 in c:\\programdata\\anaconda3\\lib\\site-packages (from nbconvert->jupyter->viewscad) (0.8.4)\n",
      "Requirement already satisfied: entrypoints>=0.2.2 in c:\\programdata\\anaconda3\\lib\\site-packages (from nbconvert->jupyter->viewscad) (0.3)\n",
      "Requirement already satisfied: python-dateutil>=2.1 in c:\\programdata\\anaconda3\\lib\\site-packages (from jupyter-client->ipykernel>=4.5.1->ipywidgets->viewscad) (2.8.0)\n",
      "Requirement already satisfied: attrs>=17.4.0 in c:\\programdata\\anaconda3\\lib\\site-packages (from jsonschema!=2.5.0,>=2.4->nbformat>=4.2.0->ipywidgets->viewscad) (19.1.0)\n",
      "Requirement already satisfied: pyrsistent>=0.14.0 in c:\\programdata\\anaconda3\\lib\\site-packages (from jsonschema!=2.5.0,>=2.4->nbformat>=4.2.0->ipywidgets->viewscad) (0.14.11)\n",
      "Requirement already satisfied: wcwidth in c:\\programdata\\anaconda3\\lib\\site-packages (from prompt-toolkit<2.1.0,>=2.0.0->ipython>=4.0.0; python_version >= \"3.3\"->ipywidgets->viewscad) (0.1.7)\n",
      "Requirement already satisfied: parso>=0.3.0 in c:\\programdata\\anaconda3\\lib\\site-packages (from jedi>=0.10->ipython>=4.0.0; python_version >= \"3.3\"->ipywidgets->viewscad) (0.5.0)\n",
      "Requirement already satisfied: MarkupSafe>=0.23 in c:\\programdata\\anaconda3\\lib\\site-packages (from jinja2->notebook>=4.3.1->jupyterlab->viewscad) (1.1.1)\n",
      "Requirement already satisfied: webencodings in c:\\programdata\\anaconda3\\lib\\site-packages (from bleach->nbconvert->jupyter->viewscad) (0.5.1)\n",
      "Installing collected packages: traittypes, ipydatawidgets, pythreejs, viewscad\n",
      "Successfully installed ipydatawidgets-4.0.1 pythreejs-2.1.1 traittypes-0.2.1 viewscad-0.2.0\n",
      "Note: you may need to restart the kernel to use updated packages.\n"
     ]
    }
   ],
   "source": [
    "pip install viewscad"
   ]
  },
  {
   "cell_type": "code",
   "execution_count": 24,
   "metadata": {},
   "outputs": [],
   "source": [
    "#Problem 1\n",
    "#Part (a)\n",
    "from solid import *\n",
    "from solid.utils import *\n",
    "import viewscad\n",
    "\n",
    "#define inner and outer diameter\n",
    "o = 10\n",
    "i = 5\n",
    "#create cyclinder with the hole\n",
    "cylinder = difference()( \n",
    "        cylinder(d=o, h=10),\n",
    "        cylinder(d=i, h=10))"
   ]
  },
  {
   "cell_type": "code",
   "execution_count": 25,
   "metadata": {
    "scrolled": true
   },
   "outputs": [],
   "source": [
    "#Part (b)\n",
    "\n",
    "from solid import *\n",
    "from solid.utils import *\n",
    "import viewscad\n",
    "\n",
    "def cyl(o,i): #define the function that run the code like part 1(a) but change r to d\n",
    "    cyl = difference()(\n",
    "        cylinder(d=o, h=10),\n",
    "        cylinder(d=i, h=10))"
   ]
  },
  {
   "cell_type": "code",
   "execution_count": 26,
   "metadata": {},
   "outputs": [],
   "source": [
    "cyl(20,4) #check that it it will run without error"
   ]
  },
  {
   "cell_type": "code",
   "execution_count": 30,
   "metadata": {},
   "outputs": [],
   "source": [
    "#Part (c)\n",
    "\n",
    "from solid import *\n",
    "from solid.utils import *\n",
    "import viewscad\n",
    "\n",
    "def new_cyl(i1,i2,th):\n",
    "    o1 = i1 + th\n",
    "    o2 = i2 + th\n",
    "    final_cyl1 = difference()(\n",
    "        cylinder(d=i1, h=10),\n",
    "        cylinder(d=o1, h=10))\n",
    "    cyl2 = difference()(\n",
    "        cylinder(d=i2, h=10),\n",
    "        cylinder(d=o2, h=10))\n",
    "    final_cyl2 = right(10)(cyl2)"
   ]
  },
  {
   "cell_type": "code",
   "execution_count": 31,
   "metadata": {},
   "outputs": [],
   "source": [
    "new_cyl(10,5,3) #check that it will run without error"
   ]
  },
  {
   "cell_type": "code",
   "execution_count": null,
   "metadata": {},
   "outputs": [],
   "source": []
  }
 ],
 "metadata": {
  "kernelspec": {
   "display_name": "Python 3",
   "language": "python",
   "name": "python3"
  },
  "language_info": {
   "codemirror_mode": {
    "name": "ipython",
    "version": 3
   },
   "file_extension": ".py",
   "mimetype": "text/x-python",
   "name": "python",
   "nbconvert_exporter": "python",
   "pygments_lexer": "ipython3",
   "version": "3.7.3"
  }
 },
 "nbformat": 4,
 "nbformat_minor": 2
}
